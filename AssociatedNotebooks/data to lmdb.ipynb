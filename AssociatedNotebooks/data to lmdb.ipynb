{
 "cells": [
  {
   "cell_type": "code",
   "execution_count": 5,
   "metadata": {
    "collapsed": false
   },
   "outputs": [
    {
     "name": "stdout",
     "output_type": "stream",
     "text": [
      "0 /home/naylor/Bureau/ToAnnotate/Slide_141549/283.png\n",
      "1 / 3\n",
      "1 /home/naylor/Bureau/ToAnnotate/Slide_141549/367.png\n",
      "2 / 3\n",
      "2 /home/naylor/Bureau/ToAnnotate/Slide_141549/83.png\n",
      "3 / 3\n"
     ]
    }
   ],
   "source": [
    "#!/usr/bin/python\n",
    "\n",
    "import caffe\n",
    "import glob\n",
    "import lmdb\n",
    "import numpy as np\n",
    "from PIL import Image\n",
    "import os\n",
    "import sys\n",
    "import Datamanager as Dm\n",
    "\n",
    "# Variables\n",
    "img_width = 512\n",
    "img_height = 512\n",
    "\n",
    "\n",
    "# Paths\n",
    "# PNG images\n",
    "color_dir = '/Users/naylorpeter/Documents/Python/ToAnnotate/Slide_141549'\n",
    "color_dir = '/home/naylor/Bureau/ToAnnotate/Slide_141549'\n",
    "# PNG images\n",
    "# Per-pixel labels are stored in a gray image\n",
    "label_dir = '/Users/naylorpeter/Documents/Python/ToAnnotate/Slide_141549'\n",
    "label_dir = '/home/naylor/Bureau/ToAnnotate/GT_141549'\n",
    "output_dir = './lmdb/'\n",
    "\n",
    "\n",
    "inputs = glob.glob(color_dir + '/*.png')\n",
    "\n",
    "color_lmdb_name = output_dir + '/color-lmdb'\n",
    "if not os.path.isdir(color_lmdb_name):\n",
    "    os.makedirs(color_lmdb_name)\n",
    "color_in_db = lmdb.open(color_lmdb_name, map_size=int(1e12))\n",
    "\n",
    "label_lmdb_name = output_dir + '/label-lmdb'\n",
    "if not os.path.isdir(label_lmdb_name):\n",
    "    os.makedirs(label_lmdb_name)\n",
    "label_in_db = lmdb.open(label_lmdb_name, map_size=int(1e12))\n",
    "\n",
    "num_images = 0;\n",
    "color_mean_color = np.zeros((3))\n",
    "\n",
    "\n",
    "with color_in_db.begin(write=True) as color_in_txn:\n",
    "    with label_in_db.begin(write=True) as label_in_txn:\n",
    "\n",
    "        for im, img_gt:\n",
    "            print in_idx, in_\n",
    "            img_name = os.path.splitext( os.path.basename(in_))[0]\n",
    "            color_filename = color_dir + \"/\" + img_name + '.png'\n",
    "            label_filename = label_dir + \"/\" + img_name + '.png'\n",
    "            print(str(in_idx + 1) + ' / ' + str(len(inputs)))\n",
    "\n",
    "            # load image\n",
    "            im = np.array(Image.open(color_filename)) # or load whatever ndarray you need\n",
    "            assert im.dtype == np.uint8            \n",
    "            # RGB to BGR\n",
    "            im = im[:,:,::-1]\n",
    "            # in Channel x Height x Width order (switch from H x W x C)\n",
    "            im = im.transpose((2,0,1))\n",
    "\n",
    "            # compute mean color image\n",
    "            for i in range(3):\n",
    "                color_mean_color[i] += im[i,:,:].mean()\n",
    "            num_images += 1\n",
    "\n",
    "            #color_im_dat = caffe.io.array_to_datum(im)\n",
    "            color_im_dat = caffe.proto.caffe_pb2.Datum()\n",
    "            color_im_dat.channels, color_im_dat.height, color_im_dat.width = im.shape\n",
    "            assert color_im_dat.height == img_height\n",
    "            assert color_im_dat.width == img_width\n",
    "            color_im_dat.data = im.tostring()\n",
    "            color_in_txn.put('{:0>12d}'.format(in_idx), color_im_dat.SerializeToString())\n",
    "\n",
    "            im = np.array(Image.open(label_filename)) # or load whatever ndarray you need\n",
    "            assert im.dtype == np.uint8\n",
    "            label_im_dat = caffe.proto.caffe_pb2.Datum()\n",
    "            label_im_dat.channels = 1\n",
    "            label_im_dat.height, label_im_dat.width = im.shape\n",
    "            assert label_im_dat.height == img_height\n",
    "            assert label_im_dat.width == img_width\n",
    "            label_im_dat.data = im.tostring()\n",
    "            label_in_txn.put('{:0>12d}'.format(in_idx), label_im_dat.SerializeToString())\n",
    "\n",
    "    label_in_db.close()\n",
    "color_in_db.close()\n",
    "\n",
    "color_mean_color /= num_images\n",
    "np.savetxt(output_dir + '/{}.csv'.format('color-mean'), color_mean_color, delimiter=\",\", fmt='%.4f')"
   ]
  },
  {
   "cell_type": "code",
   "execution_count": 4,
   "metadata": {
    "collapsed": false
   },
   "outputs": [
    {
     "data": {
      "text/plain": [
       "'./lmdb//color-mean.csv'"
      ]
     },
     "execution_count": 4,
     "metadata": {},
     "output_type": "execute_result"
    }
   ],
   "source": [
    "output_dir + '/{}.csv'.format('color-mean')"
   ]
  },
  {
   "cell_type": "code",
   "execution_count": null,
   "metadata": {
    "collapsed": true
   },
   "outputs": [],
   "source": [
    "import caffe\n",
    "import lmdb\n",
    "from PIL import Image\n",
    "\n",
    "in_db = lmdb.open('image-lmdb', map_size=int(1e12))\n",
    "with in_db.begin(write=True) as in_txn:\n",
    "    for in_idx, in_ in enumerate(inputs):\n",
    "        # load image:\n",
    "        # - as np.uint8 {0, ..., 255}\n",
    "        # - in BGR (switch from RGB)\n",
    "        # - in Channel x Height x Width order (switch from H x W x C)\n",
    "        im = np.array(Image.open(in_)) # or load whatever ndarray you need\n",
    "        im = im[:,:,::-1]\n",
    "        im = im.transpose((2,0,1))\n",
    "        im_dat = caffe.io.array_to_datum(im)\n",
    "        in_txn.put('{:0>10d}'.format(in_idx), im_dat.SerializeToString())\n",
    "in_db.close()"
   ]
  },
  {
   "cell_type": "code",
   "execution_count": null,
   "metadata": {
    "collapsed": true
   },
   "outputs": [],
   "source": [
    "path = '/home/naylor/Bureau/ToAnnotate'\n",
    "test = DataManager(path)\n",
    "test.prepare_sets()\n",
    "    \n",
    "transform_list = [Transf.Identity(), Transf.Rotation(45, enlarge=True), Transf.Flip(1)]\n",
    "test.SetTransformation(transform_list)\n",
    "i = 0    \n",
    "    for img, img_gt in test.TrainingIterator(fold = 1):\n",
    "        i+=1"
   ]
  }
 ],
 "metadata": {
  "kernelspec": {
   "display_name": "Python 2",
   "language": "python",
   "name": "python2"
  },
  "language_info": {
   "codemirror_mode": {
    "name": "ipython",
    "version": 2
   },
   "file_extension": ".py",
   "mimetype": "text/x-python",
   "name": "python",
   "nbconvert_exporter": "python",
   "pygments_lexer": "ipython2",
   "version": "2.7.11"
  }
 },
 "nbformat": 4,
 "nbformat_minor": 0
}
