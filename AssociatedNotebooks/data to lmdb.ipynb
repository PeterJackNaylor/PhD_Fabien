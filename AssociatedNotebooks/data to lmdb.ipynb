{
 "cells": [
  {
   "cell_type": "code",
   "execution_count": 4,
   "metadata": {
    "collapsed": false
   },
   "outputs": [
    {
     "name": "stdout",
     "output_type": "stream",
     "text": [
      "1 / 3\n"
     ]
    },
    {
     "ename": "NameError",
     "evalue": "name 'caffe' is not defined",
     "output_type": "error",
     "traceback": [
      "\u001b[0;31m---------------------------------------------------------------------------\u001b[0m",
      "\u001b[0;31mNameError\u001b[0m                                 Traceback (most recent call last)",
      "\u001b[0;32m<ipython-input-4-367e235fffc8>\u001b[0m in \u001b[0;36m<module>\u001b[0;34m()\u001b[0m\n\u001b[1;32m     62\u001b[0m \u001b[0;34m\u001b[0m\u001b[0m\n\u001b[1;32m     63\u001b[0m             \u001b[0;31m#color_im_dat = caffe.io.array_to_datum(im)\u001b[0m\u001b[0;34m\u001b[0m\u001b[0;34m\u001b[0m\u001b[0m\n\u001b[0;32m---> 64\u001b[0;31m             \u001b[0mcolor_im_dat\u001b[0m \u001b[0;34m=\u001b[0m \u001b[0mcaffe\u001b[0m\u001b[0;34m.\u001b[0m\u001b[0mproto\u001b[0m\u001b[0;34m.\u001b[0m\u001b[0mcaffe_pb2\u001b[0m\u001b[0;34m.\u001b[0m\u001b[0mDatum\u001b[0m\u001b[0;34m(\u001b[0m\u001b[0;34m)\u001b[0m\u001b[0;34m\u001b[0m\u001b[0m\n\u001b[0m\u001b[1;32m     65\u001b[0m             \u001b[0mcolor_im_dat\u001b[0m\u001b[0;34m.\u001b[0m\u001b[0mchannels\u001b[0m\u001b[0;34m,\u001b[0m \u001b[0mcolor_im_dat\u001b[0m\u001b[0;34m.\u001b[0m\u001b[0mheight\u001b[0m\u001b[0;34m,\u001b[0m \u001b[0mcolor_im_dat\u001b[0m\u001b[0;34m.\u001b[0m\u001b[0mwidth\u001b[0m \u001b[0;34m=\u001b[0m \u001b[0mim\u001b[0m\u001b[0;34m.\u001b[0m\u001b[0mshape\u001b[0m\u001b[0;34m\u001b[0m\u001b[0m\n\u001b[1;32m     66\u001b[0m             \u001b[0;32massert\u001b[0m \u001b[0mcolor_im_dat\u001b[0m\u001b[0;34m.\u001b[0m\u001b[0mheight\u001b[0m \u001b[0;34m==\u001b[0m \u001b[0mimg_height\u001b[0m\u001b[0;34m\u001b[0m\u001b[0m\n",
      "\u001b[0;31mNameError\u001b[0m: name 'caffe' is not defined"
     ]
    }
   ],
   "source": [
    "#!/usr/bin/python\n",
    "\n",
    "#import caffee\n",
    "import glob\n",
    "import lmdb\n",
    "import numpy as np\n",
    "from PIL import Image\n",
    "import os\n",
    "import sys\n",
    "\n",
    "# Variables\n",
    "img_width = 512\n",
    "img_height = 512\n",
    "\n",
    "\n",
    "# Paths\n",
    "# PNG images\n",
    "color_dir = '/Users/naylorpeter/Documents/Python/ToAnnotate/Slide_141549'\n",
    "# PNG images\n",
    "# Per-pixel labels are stored in a gray image\n",
    "label_dir = '/Users/naylorpeter/Documents/Python/ToAnnotate/Slide_141549'\n",
    "output_dir = './lmdb/'\n",
    "\n",
    "\n",
    "inputs = glob.glob(color_dir + '/*.png')\n",
    "\n",
    "color_lmdb_name = output_dir + '/color-lmdb'\n",
    "if not os.path.isdir(color_lmdb_name):\n",
    "    os.makedirs(color_lmdb_name)\n",
    "color_in_db = lmdb.open(color_lmdb_name, map_size=int(1e12))\n",
    "\n",
    "label_lmdb_name = output_dir + '/label-lmdb'\n",
    "if not os.path.isdir(label_lmdb_name):\n",
    "    os.makedirs(label_lmdb_name)\n",
    "label_in_db = lmdb.open(label_lmdb_name, map_size=int(1e12))\n",
    "\n",
    "num_images = 0;\n",
    "color_mean_color = np.zeros((3))\n",
    "\n",
    "\n",
    "with color_in_db.begin(write=True) as color_in_txn:\n",
    "    with label_in_db.begin(write=True) as label_in_txn:\n",
    "\n",
    "        for in_idx, in_ in enumerate(inputs):\n",
    "            img_name = os.path.splitext( os.path.basename(in_))[0]\n",
    "            color_filename = color_dir + \"/\" + img_name + '.png'\n",
    "            label_filename = label_dir + \"/\" + img_name + '.png'\n",
    "            print(str(in_idx + 1) + ' / ' + str(len(inputs)))\n",
    "\n",
    "            # load image\n",
    "            im = np.array(Image.open(color_filename)) # or load whatever ndarray you need\n",
    "            assert im.dtype == np.uint8            \n",
    "            # RGB to BGR\n",
    "            im = im[:,:,::-1]\n",
    "            # in Channel x Height x Width order (switch from H x W x C)\n",
    "            im = im.transpose((2,0,1))\n",
    "\n",
    "            # compute mean color image\n",
    "            for i in range(3):\n",
    "                color_mean_color[i] += im[i,:,:].mean()\n",
    "            num_images += 1\n",
    "\n",
    "            #color_im_dat = caffe.io.array_to_datum(im)\n",
    "            color_im_dat = caffe.proto.caffe_pb2.Datum()\n",
    "            color_im_dat.channels, color_im_dat.height, color_im_dat.width = im.shape\n",
    "            assert color_im_dat.height == img_height\n",
    "            assert color_im_dat.width == img_width\n",
    "            color_im_dat.data = im.tostring()\n",
    "            color_in_txn.put('{:0>12d}'.format(in_idx), color_im_dat.SerializeToString())\n",
    "\n",
    "            im = np.array(Image.open(label_filename)) # or load whatever ndarray you need\n",
    "            assert im.dtype == np.uint8\n",
    "            label_im_dat = caffe.proto.caffe_pb2.Datum()\n",
    "            label_im_dat.channels = 1\n",
    "            label_im_dat.height, label_im_dat.width = im.shape\n",
    "            assert label_im_dat.height == img_height\n",
    "            assert label_im_dat.width == img_width\n",
    "            label_im_dat.data = im.tostring()\n",
    "            label_in_txn.put('{:0>12d}'.format(in_idx), label_im_dat.SerializeToString())\n",
    "\n",
    "    label_in_db.close()\n",
    "color_in_db.close()\n",
    "\n",
    "color_mean_color /= num_images\n",
    "np.savetxt(output_dir + '/{}.csv'.format('color-mean'), color_mean_color, delimiter=\",\", fmt='%.4f')"
   ]
  }
 ],
 "metadata": {
  "kernelspec": {
   "display_name": "Python 2",
   "language": "python",
   "name": "python2"
  },
  "language_info": {
   "codemirror_mode": {
    "name": "ipython",
    "version": 2
   },
   "file_extension": ".py",
   "mimetype": "text/x-python",
   "name": "python",
   "nbconvert_exporter": "python",
   "pygments_lexer": "ipython2",
   "version": "2.7.11"
  }
 },
 "nbformat": 4,
 "nbformat_minor": 0
}
